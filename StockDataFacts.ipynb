{
 "cells": [
  {
   "cell_type": "code",
   "execution_count": 1,
   "metadata": {},
   "outputs": [],
   "source": [
    "import re\n",
    "import json\n",
    "import csv\n",
    "from io import StringIO\n",
    "from bs4 import BeautifulSoup\n",
    "import requests\n",
    "import yfinance as yf \n",
    "import pandas as pd"
   ]
  },
  {
   "cell_type": "code",
   "execution_count": null,
   "metadata": {},
   "outputs": [],
   "source": [
    "stock_summary = 'https://au.finance.yahoo.com/quote/{}/'\n"
   ]
  },
  {
   "cell_type": "code",
   "execution_count": 28,
   "metadata": {},
   "outputs": [],
   "source": [
    "Stock = 'AAPL'\n"
   ]
  },
  {
   "cell_type": "code",
   "execution_count": 39,
   "metadata": {},
   "outputs": [
    {
     "name": "stdout",
     "output_type": "stream",
     "text": [
      "Current Stock Price: 227.65\n",
      "Absolute Change: +0.27\n",
      "Percentage Change: +(0.12%)\n"
     ]
    }
   ],
   "source": [
    "# Last Closing Price of the Stock\n",
    "response = requests.get(stock_summary.format(Stock))\n",
    "soup = BeautifulSoup(response.text, \"html.parser\")\n",
    "\n",
    "price = soup.find('span', {'data-testid': 'qsp-price'})\n",
    "change_in_price = soup.find('span', {'data-testid': 'qsp-price-change'})\n",
    "percentage_change = soup.find('span', {'data-testid': 'qsp-price-change-percent'})\n",
    "\n",
    "current_price = price.text.strip() if price else \"Not Found\"\n",
    "absolute_change = change_in_price.text.strip() if change_in_price else \"Not Found\"\n",
    "percent_change = percentage_change.text.strip() if percentage_change else \"Not Found\"\n",
    "\n",
    "\n",
    "print(\"Current Stock Price:\", current_price)\n",
    "print(\"Absolute Change:\", absolute_change)\n",
    "print(\"Percentage Change:\", percent_change)"
   ]
  },
  {
   "cell_type": "code",
   "execution_count": 33,
   "metadata": {},
   "outputs": [
    {
     "name": "stderr",
     "output_type": "stream",
     "text": [
      "[*********************100%***********************]  1 of 1 completed"
     ]
    },
    {
     "name": "stdout",
     "output_type": "stream",
     "text": [
      "Price            Close        High         Low        Open     Volume\n",
      "Ticker            AAPL        AAPL        AAPL        AAPL       AAPL\n",
      "Date                                                                 \n",
      "2025-01-02  243.582199  248.826433  241.554430  248.656607   55740700\n",
      "2025-01-03  243.092728  243.911819  241.624341  243.092728   40244100\n",
      "2025-01-06  244.730927  247.058369  242.932900  244.041682   45045600\n",
      "2025-01-07  241.944000  245.280328  241.084944  242.713144   40856000\n",
      "2025-01-08  242.433441  243.442342  239.786358  241.654299   37628900\n",
      "2025-01-10  236.589874  239.896236  232.744097  239.746392   61710900\n",
      "2025-01-13  234.142563  234.412271  229.467710  233.273523   49630700\n",
      "2025-01-14  233.023788  235.860666  232.214681  234.492175   39435300\n",
      "2025-01-15  237.608749  238.697564  234.172525  234.382301   39832000\n",
      "2025-01-16  228.009308  237.748600  227.779565  237.089336   71759100\n",
      "2025-01-17  229.727417  232.034878  228.229064  231.865066   68488300\n",
      "2025-01-21  222.395477  224.173521  219.139063  223.753984   98070400\n",
      "2025-01-22  223.584167  223.873842  219.548596  219.548596   64126500\n",
      "2025-01-23  223.414368  226.780662  222.055861  224.493183   60234800\n",
      "2025-01-24  222.535324  225.382200  221.166834  224.533128   54697900\n",
      "2025-01-27  229.607544  231.895022  223.733997  223.773962   94863400\n",
      "2025-01-28  237.998322  239.926210  230.556507  230.596471   75707600\n",
      "2025-01-29  239.097122  239.596573  233.752992  233.862872   45486100\n",
      "2025-01-30  237.329056  240.525538  236.949483  238.407871   55658300\n",
      "2025-01-31  235.740814  246.918527  233.183628  246.918527  101075100\n",
      "2025-02-03  227.759583  231.575395  225.452122  229.737419   73063300\n",
      "2025-02-04  232.544327  232.873966  226.401072  227.000419   45067300\n",
      "2025-02-05  232.214691  232.414468  228.019307  228.279016   39620300\n",
      "2025-02-06  232.963867  233.543232  230.176923  231.035979   29925300\n",
      "2025-02-07  227.380005  233.743004  227.010401  232.344548   39707200\n",
      "2025-02-10  227.649994  230.589996  227.199997  229.570007   33115600\n",
      "2025-02-11  232.619995  235.229996  228.130005  228.199997   53718400\n",
      "2025-02-12  236.869995  236.960007  230.679993  231.199997   45201200\n"
     ]
    },
    {
     "name": "stderr",
     "output_type": "stream",
     "text": [
      "\n"
     ]
    }
   ],
   "source": [
    "# Historical Data of the Stock from Start Date to End Date \n",
    "\n",
    "data = yf.download(Stock, start='2025-01-01', end = '2025-02-13')\n",
    "print(data)"
   ]
  },
  {
   "cell_type": "code",
   "execution_count": 41,
   "metadata": {},
   "outputs": [
    {
     "name": "stdout",
     "output_type": "stream",
     "text": [
      "Company: Apple Inc.\n",
      "Sector: Technology\n",
      "Industry: Consumer Electronics\n",
      "Market Cap: 3558284984320\n",
      "P/E Ratio: 37.59841\n"
     ]
    }
   ],
   "source": [
    "# Income Information\n",
    "stock = yf.Ticker(Stock)\n",
    "stock_info = stock.info\n",
    "print(f\"Company: {stock_info['longName']}\")\n",
    "print(f\"Sector: {stock_info['sector']}\")\n",
    "print(f\"Industry: {stock_info['industry']}\")\n",
    "print(f\"Market Cap: {stock_info['marketCap']}\")\n",
    "try: \n",
    "    print(f\"P/E Ratio: {stock_info['trailingPE']}\")\n",
    "except:\n",
    "    print(\"P/E Ratio: None\")"
   ]
  },
  {
   "cell_type": "code",
   "execution_count": 42,
   "metadata": {},
   "outputs": [
    {
     "name": "stdout",
     "output_type": "stream",
     "text": [
      "Balance Sheet: \n",
      "                            2024-09-30      2023-09-30      2022-09-30  \\\n",
      "Treasury Shares Number             NaN             0.0             NaN   \n",
      "Ordinary Shares Number   15116786000.0   15550061000.0   15943425000.0   \n",
      "Share Issued             15116786000.0   15550061000.0   15943425000.0   \n",
      "Net Debt                 76686000000.0   81123000000.0   96423000000.0   \n",
      "Total Debt              106629000000.0  111088000000.0  132480000000.0   \n",
      "\n",
      "                            2021-09-30 2020-09-30  \n",
      "Treasury Shares Number             NaN        NaN  \n",
      "Ordinary Shares Number   16426786000.0        NaN  \n",
      "Share Issued             16426786000.0        NaN  \n",
      "Net Debt                 89779000000.0        NaN  \n",
      "Total Debt              136522000000.0        NaN  \n"
     ]
    }
   ],
   "source": [
    "# Balance Sheet of the Stock \n",
    "stock = yf.Ticker(Stock)\n",
    "balanceSheet = stock.balance_sheet\n",
    "print(\"Balance Sheet: \")\n",
    "print(balanceSheet.head())"
   ]
  },
  {
   "cell_type": "code",
   "execution_count": 43,
   "metadata": {},
   "outputs": [
    {
     "name": "stdout",
     "output_type": "stream",
     "text": [
      "income Sheet: \n",
      "                                                        2024-09-30  \\\n",
      "Tax Effect Of Unusual Items                                    0.0   \n",
      "Tax Rate For Calcs                                           0.241   \n",
      "Normalized EBITDA                                   134661000000.0   \n",
      "Net Income From Continuing Operation Net Minori...   93736000000.0   \n",
      "Reconciled Depreciation                              11445000000.0   \n",
      "\n",
      "                                                        2023-09-30  \\\n",
      "Tax Effect Of Unusual Items                                    0.0   \n",
      "Tax Rate For Calcs                                           0.147   \n",
      "Normalized EBITDA                                   125820000000.0   \n",
      "Net Income From Continuing Operation Net Minori...   96995000000.0   \n",
      "Reconciled Depreciation                              11519000000.0   \n",
      "\n",
      "                                                        2022-09-30  \\\n",
      "Tax Effect Of Unusual Items                                    0.0   \n",
      "Tax Rate For Calcs                                           0.162   \n",
      "Normalized EBITDA                                   130541000000.0   \n",
      "Net Income From Continuing Operation Net Minori...   99803000000.0   \n",
      "Reconciled Depreciation                              11104000000.0   \n",
      "\n",
      "                                                        2021-09-30 2020-09-30  \n",
      "Tax Effect Of Unusual Items                                    0.0        NaN  \n",
      "Tax Rate For Calcs                                           0.133        NaN  \n",
      "Normalized EBITDA                                   123136000000.0        NaN  \n",
      "Net Income From Continuing Operation Net Minori...   94680000000.0        NaN  \n",
      "Reconciled Depreciation                              11284000000.0        NaN  \n"
     ]
    }
   ],
   "source": [
    "# Income statement of the stock\n",
    "incomeSheet = stock.financials\n",
    "print(\"income Sheet: \")\n",
    "print(incomeSheet.head())"
   ]
  }
 ],
 "metadata": {
  "kernelspec": {
   "display_name": "Python 3",
   "language": "python",
   "name": "python3"
  },
  "language_info": {
   "codemirror_mode": {
    "name": "ipython",
    "version": 3
   },
   "file_extension": ".py",
   "mimetype": "text/x-python",
   "name": "python",
   "nbconvert_exporter": "python",
   "pygments_lexer": "ipython3",
   "version": "3.10.12"
  }
 },
 "nbformat": 4,
 "nbformat_minor": 2
}
